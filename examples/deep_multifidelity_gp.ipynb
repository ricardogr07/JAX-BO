{
 "cells": [
  {
   "cell_type": "code",
   "execution_count": null,
   "metadata": {
    "id": "hKM50d8bQ_QJ"
   },
   "outputs": [],
   "source": [
    "import numpy as onp\n",
    "import jax.numpy as np\n",
    "from jax import random, vmap\n",
    "import jax\n",
    "jax.config.update(\"jax_enable_x64\", True)\n",
    "\n",
    "from scipy.optimize import minimize\n",
    "from pyDOE import lhs\n",
    "import matplotlib.pyplot as plt\n",
    "from matplotlib import rc\n",
    "\n",
    "from jaxbo.models import DeepMultifidelityGP\n",
    "from jaxbo.utils import normalize_MultifidelityGP, compute_w_gmm\n",
    "from jaxbo.test_functions import *\n",
    "\n",
    "onp.random.seed(1234)"
   ]
  },
  {
   "cell_type": "code",
   "execution_count": null,
   "metadata": {
    "id": "PI6hC4eZQ_QL"
   },
   "outputs": [],
   "source": [
    "# from jaxbo.input_priors import uniform_prior\n",
    "\n",
    "# def test():\n",
    "#     dim = 1\n",
    "#     lb = np.zeros(dim)\n",
    "#     ub = np.ones(dim)\n",
    "#     p_x = uniform_prior(lb, ub)\n",
    "#     def rho(x):\n",
    "# #         return 0.5*x\n",
    "#         return 10.0*(x<5.0) + 2.0*x\n",
    "#     def f_H(x):\n",
    "#         x = x.flatten()\n",
    "#         y = (6.0*x-2.0)**2 * np.sin(12.0*x-4.0)\n",
    "#         return y[0]\n",
    "#     def f_L(x):\n",
    "#         x = x.flatten()\n",
    "#         y = rho(f_H(x)) + 10.0*(x-0.5) - 5.0\n",
    "#         return y[0]\n",
    "#     return (f_L, f_H), p_x, dim, lb, ub"
   ]
  },
  {
   "cell_type": "code",
   "execution_count": null,
   "metadata": {
    "id": "R1UvrCbPQ_QM"
   },
   "outputs": [],
   "source": [
    "f, p_x, dim, lb, ub = JumpForresterFunction()\n",
    "f_L, f_H = f\n",
    "\n",
    "# Problem setttings\n",
    "NL = 50\n",
    "NH = 8\n",
    "noiseL = 0.0\n",
    "noiseH = 0.0\n",
    "if 1==1: #Activate to use MomentumResNet\n",
    "    options = {'kernel': 'RBF',\n",
    "               'input_prior': p_x,\n",
    "               'net_arch': 'MomentumResNet',\n",
    "               'depth': 2,\n",
    "               'vel_zeros': 0,\n",
    "               'gamma': 0.9}\n",
    "    layers = [1, 20, 20, 1]\n",
    "    gp_model = DeepMultifidelityGP(options, layers)\n",
    "if 1==0: #Activate to use ResNet\n",
    "    options = {'kernel': 'RBF',\n",
    "               'input_prior': p_x,\n",
    "               'net_arch': 'ResNet',\n",
    "               'depth': 2,\n",
    "               'is_spect': 0}\n",
    "    layers = [1, 20, 20, 1]\n",
    "    gp_model = DeepMultifidelityGP(options, layers)\n",
    "if 1==0: # Activate to use MLP\n",
    "    options = {'kernel': 'RBF',\n",
    "               'input_prior': p_x,\n",
    "               'net_arch': 'MLP'}\n",
    "    layers = [1, 20, 20, 1]\n",
    "    gp_model = DeepMultifidelityGP(options, layers)\n",
    "\n",
    "# Fetch domain bounds\n",
    "bounds = {'lb': lb, 'ub': ub}\n",
    "\n",
    "# Initial training data\n",
    "XL = lb + (ub-lb)*lhs(dim, NL)\n",
    "yL = vmap(f_L)(XL)\n",
    "yL = yL + noiseL*yL.std(0)*onp.random.normal(yL.shape)\n",
    "\n",
    "XH = lb + (ub-lb)*lhs(dim, NH)\n",
    "yH = vmap(f_H)(XH)\n",
    "yH = yH + noiseH*yH.std(0)*onp.random.normal(yH.shape)\n",
    "\n",
    "y = np.concatenate([yL, yH])\n",
    "\n",
    "# Test data\n",
    "nn = 1000\n",
    "X_star = np.linspace(lb[0], ub[0], nn)[:,None]\n",
    "yL_star = vmap(f_L)(X_star)\n",
    "yH_star = vmap(f_H)(X_star)"
   ]
  },
  {
   "cell_type": "code",
   "execution_count": null,
   "metadata": {
    "id": "c3YVEPVtQ_QN",
    "outputId": "e4bbb8cf-d837-454a-c15b-916885a61118"
   },
   "outputs": [],
   "source": [
    "plt.figure()\n",
    "plt.plot(X_star, yL_star, lw = 2)\n",
    "plt.plot(X_star, yH_star, lw = 2)\n",
    "\n",
    "plt.figure()\n",
    "plt.plot(yL_star, yH_star, '.')"
   ]
  },
  {
   "cell_type": "code",
   "execution_count": null,
   "metadata": {
    "id": "JvMOjGyaQ_QN",
    "outputId": "dcd3a78e-43fa-43dc-a479-1a23a43abbf4"
   },
   "outputs": [],
   "source": [
    "rng_key = random.PRNGKey(0)\n",
    "# Fetch normalized training data\n",
    "norm_batch, norm_const = normalize_MultifidelityGP(XL, yL, XH, yH, bounds)\n",
    "\n",
    "# Train GP model\n",
    "print('Train GP...')\n",
    "rng_key = random.split(rng_key)[0]\n",
    "opt_params = gp_model.train(norm_batch,\n",
    "                            rng_key,\n",
    "                            num_restarts = 20)"
   ]
  },
  {
   "cell_type": "code",
   "execution_count": null,
   "metadata": {
    "id": "8ilP0cNlQ_QO",
    "outputId": "f51312cb-32c3-43f9-fa83-8e4583b935f0"
   },
   "outputs": [],
   "source": [
    "kwargs = {'params': opt_params,\n",
    "          'batch': norm_batch,\n",
    "          'norm_const': norm_const,\n",
    "          'bounds': bounds,\n",
    "          'gmm_vars': None}\n",
    "# Test accuracy\n",
    "mean, std = gp_model.predict(X_star, **kwargs)\n",
    "mean = mean * norm_const['sigma_y'] + norm_const['mu_y']\n",
    "std = std * norm_const['sigma_y']\n",
    "lower = mean - 2.0*std\n",
    "upper = mean + 2.0*std\n",
    "# Check accuracy\n",
    "error = np.linalg.norm(mean-yH_star,2)/np.linalg.norm(yH_star,2)\n",
    "print(\"Relative L2 error u: %e\" % (error))"
   ]
  },
  {
   "cell_type": "code",
   "execution_count": null,
   "metadata": {
    "id": "o3tRzO44Q_QO",
    "outputId": "937519b0-1237-49d3-de4e-2ba6ffeedcc5"
   },
   "outputs": [],
   "source": [
    "# Convert to NumPy\n",
    "X_star = onp.array(X_star)\n",
    "yH_star = onp.array(yH_star)\n",
    "mean = onp.array(mean)\n",
    "std = onp.array(std)\n",
    "\n",
    "# Plot\n",
    "plt.rcParams.update({'font.size': 16})\n",
    "plt.rcParams['axes.linewidth']=3\n",
    "rc('font',**{'family':'sans-serif','sans-serif':['Helvetica']})\n",
    "rc('text', usetex=True)\n",
    "\n",
    "plt.figure(figsize = (12,4))\n",
    "plt.plot(X_star, yH_star, lw = 3)\n",
    "plt.plot(X_star, mean, '--', lw = 3)\n",
    "plt.plot(XL, yL, '.', ms = 10)\n",
    "plt.plot(XH, yH, '.', ms = 10)\n",
    "# plt.fill_between(X_star.flatten(), lower, upper, \n",
    "#                  facecolor='orange', alpha=0.5, label=\"Two std band\")\n",
    "plt.xlabel(r'$x$')\n",
    "plt.ylabel(r'$f(x)$')"
   ]
  }
 ],
 "metadata": {
  "colab": {
   "collapsed_sections": [],
   "name": "deep_multifidelity_gp_unchanged_from_github.ipynb",
   "provenance": []
  },
  "kernelspec": {
   "display_name": "Python 3",
   "language": "python",
   "name": "python3"
  },
  "language_info": {
   "codemirror_mode": {
    "name": "ipython",
    "version": 3
   },
   "file_extension": ".py",
   "mimetype": "text/x-python",
   "name": "python",
   "nbconvert_exporter": "python",
   "pygments_lexer": "ipython3",
   "version": "3.7.6"
  }
 },
 "nbformat": 4,
 "nbformat_minor": 1
}
